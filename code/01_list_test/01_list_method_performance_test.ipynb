{
 "cells": [
  {
   "cell_type": "markdown",
   "metadata": {
    "collapsed": true,
    "pycharm": {
     "name": "#%% md\n"
    }
   },
   "source": [
    "## Python数据结构list相关方法性能测试\n",
    "相关方法对应时间复杂度如下:\n",
    "\n",
    "操作| 大O表示法\n",
    "------------ | -------------\n",
    "index | O(n)\n",
    "index assignment item | O(1)\n",
    "append | O(1)\n",
    "pop | O(1)\n",
    "pop(i) | O(n)\n",
    "insert(i, item) | O(n)\n",
    "del operator | O(n)\n",
    "iteration | O(n)\n",
    "contains(in) | O(n)\n",
    "get slice[x:y] | O(k)\n",
    "del slice | O(n)\n",
    "set slice | O(n+k)\n",
    "reverse | O(n))\n",
    "concatenate | O(k)\n",
    "sort | O(nlog n)\n",
    "multiply | O(nk)"
   ]
  },
  {
   "cell_type": "markdown",
   "source": [
    "### 探究四种不同的方法来生成从 0 到 n 的列表的测试"
   ],
   "metadata": {
    "collapsed": false,
    "pycharm": {
     "name": "#%% md\n"
    }
   }
  },
  {
   "cell_type": "code",
   "execution_count": 63,
   "outputs": [],
   "source": [
    "# 串联运算符是 O(k),这里k是指正在被连接的列表的大小\n",
    "def test1():\n",
    "    l = []\n",
    "    for i in range(1000):\n",
    "        l = l + [i]\n",
    "\n",
    "# \"append\"操作是 O(1)\n",
    "def test2():\n",
    "    l = []\n",
    "    for i in range(1000):\n",
    "        l.append(i)\n",
    "        \n",
    "# 列表生成式    \n",
    "def test3():\n",
    "    l = [i for i in range(1000)]\n",
    "    \n",
    "# range()函数\n",
    "def test4():\n",
    "    l = list(range(1000))\n",
    "\n"
   ],
   "metadata": {
    "collapsed": false,
    "pycharm": {
     "name": "#%%\n",
     "is_executing": false
    }
   }
  },
  {
   "cell_type": "markdown",
   "source": [
    "为了获取我们程序运行所需要的时间，我们需要引用 Python 中的 timeit 模块。这个 timeit 模块\n",
    "是被设计成在一个持续稳定的环境中，尽可能使用与计算机操作系统相似的计时机制，让 Python 的\n",
    "开发者实现跨平台运行时间的测量\n",
    "\n",
    "为使用 timeit 模块，你需要创建一个 Timer 对象，这个对象的参数是两个 Python 语句。\n",
    "\n",
    "第一个参数是你想进行计时的 Python 语句；第二个参数是建立这次测试你将要运行的语句。\n",
    "timeit模块就将测量运行这个语句一定次数多花费的时间。\n",
    "\n",
    "如果不加要求，timeit 模块的默认运行次数是一百万次。运行结束后，它将以浮点数的形式返回运行的总时间(单位：秒)。但是，由于它默认运行语\n",
    "句一百万次，当你执行程序一次时，它返回的结果是以微秒为单位的。\n",
    "\n",
    "你也可以在 timeit 中附上一个名叫 number 的参数，这样你就可以指定程序被执行的次数。下图将展示对我们的每一个程序执行\n",
    "1000 次，分别需要花费的时间"
   ],
   "metadata": {
    "collapsed": false,
    "pycharm": {
     "name": "#%% md\n"
    }
   }
  },
  {
   "cell_type": "code",
   "execution_count": 32,
   "outputs": [
    {
     "name": "stdout",
     "text": [
      "concat耗时 1.2742081999999755 妙\n",
      "append()耗时 1.293394299999818 妙\n",
      "列表生成式耗时 1.2825788000000102 妙\n",
      "range()耗时 1.3100748000001659 妙\n"
     ],
     "output_type": "stream"
    }
   ],
   "source": [
    "from timeit import Timer\n",
    "t1 = Timer(\"test1()\", \"from __main__ import test1\")\n",
    "print('concat耗时', t1.timeit(number=1000), '妙')\n",
    "\n",
    "t2 = Timer(\"test2()\", \"from __main__ import test2\")\n",
    "print('append()耗时', t1.timeit(number=1000), '妙')\n",
    "\n",
    "t3 = Timer(\"test3()\", \"from __main__ import test3\")\n",
    "print('列表生成式耗时', t1.timeit(number=1000), '妙')\n",
    "\n",
    "t4 = Timer(\"test4()\", \"from __main__ import test4\")\n",
    "print('range()耗时', t1.timeit(number=1000), '妙')"
   ],
   "metadata": {
    "collapsed": false,
    "pycharm": {
     "name": "#%%\n",
     "is_executing": false
    }
   }
  },
  {
   "cell_type": "markdown",
   "source": [
    "发现不同的方法来生成列表消耗的时间差不多"
   ],
   "metadata": {
    "collapsed": false,
    "pycharm": {
     "name": "#%% md\n"
    }
   }
  },
  {
   "cell_type": "markdown",
   "source": [
    "### list.pop()的计时实验\n",
    "- pop()时间复杂度为O(1),当 pop 操作每次从列表的最后一位删除元素时复杂度为 O(1)\n",
    "\n",
    "- pop(i)时间复杂度为O(1),将列表的第一个元素或中间任意一个位置的元素删除时,复杂度则为 O(n)\n",
    "\n",
    "在 Python 的执行过程中,当从列表的第一位删除一个元素,其后的每一位元素都将向前挪动一位\n",
    "\n",
    "用 timeit 模块进行另一个实验,我们的目标是能够核实以下两种 pop 操作的表现:\n",
    "    \n",
    "    1.第一种是在一个已知长度的列表中从列表的末端删除元素\n",
    "    2.第二种则是从这个列表的开头删除元素"
   ],
   "metadata": {
    "collapsed": false,
    "pycharm": {
     "name": "#%% md\n"
    }
   }
  },
  {
   "cell_type": "code",
   "execution_count": 62,
   "outputs": [
    {
     "name": "stdout",
     "text": [
      "pop()操作,耗时:0.000070  秒\n",
      "pop(0)操作,耗时:0.675829  秒\n"
     ],
     "output_type": "stream"
    }
   ],
   "source": [
    "x = list(range(1000000))\n",
    "pop_end = Timer(\"x.pop()\", \"from __main__ import x\")\n",
    "\n",
    "x = list(range(1000000))\n",
    "pop_zero = Timer(\"x.pop(0)\", \"from __main__ import x\")\n",
    "\n",
    "\n",
    "print('pop()操作,耗时:%f ' %pop_end.timeit(number=1000),'秒')\n",
    "print('pop(0)操作,耗时:%f ' %pop_zero.timeit(number=1000),'秒')"
   ],
   "metadata": {
    "collapsed": false,
    "pycharm": {
     "name": "#%%\n",
     "is_executing": false
    }
   }
  },
  {
   "cell_type": "markdown",
   "source": [
    "从上述结果看,该测试证明了 pop(0)操作确实比 pop()操作要慢，但并不能确切的说明 pop(0)\n",
    "复杂度为 O(n)而 pop()的复杂度为 O(1)。\n",
    "\n",
    "为了证实这个结果，我们需要综合不同列表长度的测试结果"
   ],
   "metadata": {
    "collapsed": false,
    "pycharm": {
     "name": "#%% md\n"
    }
   }
  },
  {
   "cell_type": "code",
   "execution_count": 50,
   "outputs": [
    {
     "name": "stdout",
     "text": [
      "pop(0)        pop()\n",
      "0.001706  , 0.000062\n",
      "0.027875  , 0.000062\n",
      "0.051570  , 0.000061\n",
      "0.073112  , 0.000058\n",
      "0.131977  , 0.000072\n",
      "0.241515  , 0.000096\n",
      "0.491032  , 0.000073\n",
      "0.374883  , 0.000062\n",
      "0.482017  , 0.000076\n",
      "0.795399  , 0.000082\n"
     ],
     "output_type": "stream"
    }
   ],
   "source": [
    "print(\"pop(0)        pop()\")\n",
    "for i in range(10000,1000001, 100000):\n",
    "    x = list(range(i))\n",
    "    pop_zero_time = pop_zero.timeit(number=1000)\n",
    "    \n",
    "    x = list(range(i))\n",
    "    pop_end_time = pop_end.timeit(number=1000)\n",
    "    print(\"%f  , %f\" %(pop_zero_time,pop_end_time))\n",
    "    "
   ],
   "metadata": {
    "collapsed": false,
    "pycharm": {
     "name": "#%%\n",
     "is_executing": false
    }
   }
  },
  {
   "cell_type": "markdown",
   "source": [
    "随着列表的逐渐变长，pop(0)所需要的时间也同样\n",
    "增加。但是 pop() 的时间却始终保持基本不变。不出所料，这正是 O(n)与 O(1) 算法的行为\n",
    "\n",
    "绘制图表来直观显示"
   ],
   "metadata": {
    "collapsed": false,
    "pycharm": {
     "name": "#%% md\n"
    }
   }
  },
  {
   "cell_type": "code",
   "execution_count": 61,
   "outputs": [
    {
     "data": {
      "text/plain": "<Figure size 576x432 with 1 Axes>",
      "image/png": "[encoded data removed]"
     },
     "metadata": {
      "needs_background": "light"
     },
     "output_type": "display_data"
    }
   ],
   "source": [
    "import pandas as pd\n",
    "import matplotlib.pyplot as plt\n",
    "plt.rcParams['font.sans-serif'] = ['SimHei']  # 用来正常显示中文标签\n",
    "lst_pop_zero = []\n",
    "lst_pop_end = []\n",
    "\n",
    "# 间隔改为10000,结果更准确一些\n",
    "for i in range(10000,1000001, 10000):\n",
    "    x = list(range(i))\n",
    "    lst_pop_zero.append(pop_zero.timeit(number=1000)) \n",
    "    \n",
    "    x = list(range(i))\n",
    "    lst_pop_end.append(pop_end.timeit(number=1000)) \n",
    "\n",
    "# 构造数据\n",
    "data = {\n",
    "    'pop_zero': lst_pop_zero,\n",
    "    'pop_end': lst_pop_end\n",
    "}\n",
    "\n",
    "df = pd.DataFrame(data, index=range(10000,1000001, 10000), columns=['pop_zero','pop_end'])\n",
    "\n",
    "# 开始绘图\n",
    "fig = df.plot(figsize=(8,6))  # # 创建图表对象\n",
    "plt.title('list方法pop()和pop(i)性能比较')  # 图名\n",
    "plt.xlabel('数量级')  # x轴标签\n",
    "plt.ylabel('耗时(秒)') # y轴标签\n",
    "plt.legend(loc = 'best')  \n",
    "\n",
    "plt.show()"
   ],
   "metadata": {
    "collapsed": false,
    "pycharm": {
     "name": "#%%\n",
     "is_executing": false
    }
   }
  },
  {
   "cell_type": "markdown",
   "source": [
    "pop(i)的时间复杂度为(n),因此其图走向大致是线性关系,出现一些\"陡峭\"的点,原因可能是:\n",
    "- 自己电脑CPU调度分配问题,可能在某个时刻,资源更多的调度给其他程序..(目前本人电脑打开的程序挺多的)\n",
    "- list.pop(i)算法本身设计在某个临界点会突然增加时间复杂度,然后再回落. 这就是算法的设计问题了,先不研究那么深了\n"
   ],
   "metadata": {
    "collapsed": false,
    "pycharm": {
     "name": "#%% md\n"
    }
   }
  }
 ],
 "metadata": {
  "kernelspec": {
   "display_name": "Python 3",
   "language": "python",
   "name": "python3"
  },
  "language_info": {
   "codemirror_mode": {
    "name": "ipython",
    "version": 2
   },
   "file_extension": ".py",
   "mimetype": "text/x-python",
   "name": "python",
   "nbconvert_exporter": "python",
   "pygments_lexer": "ipython2",
   "version": "2.7.6"
  },
  "pycharm": {
   "stem_cell": {
    "cell_type": "raw",
    "source": [],
    "metadata": {
     "collapsed": false
    }
   }
  }
 },
 "nbformat": 4,
 "nbformat_minor": 0
}