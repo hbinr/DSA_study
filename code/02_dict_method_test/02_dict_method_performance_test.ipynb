{
 "cells": [
  {
   "cell_type": "markdown",
   "metadata": {
    "collapsed": true,
    "pycharm": {
     "name": "#%% md\n"
    }
   },
   "source": [
    "## Python数据结构dict相关方法性能测试\n",
    "相关方法对应时间复杂度如下:\n",
    "\n",
    "操作| 大O表示法\n",
    "------------ | -------------\n",
    "copy | O(n)\n",
    "get item | O(1)\n",
    "set item | O(1)\n",
    "delete item | O(1)\n",
    "contains(in) | O(1)\n",
    "iteration | O(n)\n",
    "\n",
    "字典与列表的不同之处在于你需要通过一个键(key)来访问元素,而列表是根据位置(index)\n",
    "\n",
    "最常用的操作:\n",
    "- 取值get\n",
    "- 赋值set\n",
    "- contains(in)\n",
    "\n",
    "注意:list的contains操作是O(n)"
   ]
  },
  {
   "cell_type": "markdown",
   "source": [
    "### list和dict的in操作性能对比\n",
    "\n",
    "生成包含连续值的list和包含key的dict,用随机数来检验操作符in的耗时"
   ],
   "metadata": {
    "collapsed": false,
    "pycharm": {
     "name": "#%% md\n"
    }
   }
  },
  {
   "cell_type": "code",
   "execution_count": 1,
   "outputs": [
    {
     "name": "stdout",
     "text": [
      "i               list(in)              dict(in)\n",
      "10000  0.08395529999999995  0.0008760999999999353\n",
      "210000  1.1638845000000002  0.0010618000000000016\n",
      "410000  2.3917124  0.0013141000000000957\n",
      "610000  3.4587202999999995  0.0018907999999999703\n",
      "810000  4.4194259  0.0011860999999999677\n"
     ],
     "output_type": "stream"
    }
   ],
   "source": [
    "import timeit\n",
    "import random\n",
    "\n",
    "print('i               list(in)              dict(in)')\n",
    "for i in range(10000, 1000001, 200000):\n",
    "    t = timeit.Timer(\"random.randrange(%d) in x\" %i, \"from __main__ import random,x\")\n",
    "    x = list(range(i))\n",
    "    lst_time = t.timeit(number=1000)\n",
    "    \n",
    "    x = {j:None for j in range(i)}\n",
    "    dict_time = t.timeit(number=1000)\n",
    "    print(f\"{i}  {lst_time}  {dict_time}\")"
   ],
   "metadata": {
    "collapsed": false,
    "pycharm": {
     "name": "#%%\n",
     "is_executing": false
    }
   }
  },
  {
   "cell_type": "markdown",
   "source": [
    " 通过绘制图表来直观显示"
   ],
   "metadata": {
    "collapsed": false,
    "pycharm": {
     "name": "#%% md\n"
    }
   }
  },
  {
   "cell_type": "code",
   "execution_count": 2,
   "outputs": [
    {
     "data": {
      "text/plain": "<Figure size 576x432 with 1 Axes>",
      "image/png": "[encoded data removed]"
     },
     "metadata": {
      "needs_background": "light"
     },
     "output_type": "display_data"
    }
   ],
   "source": [
    "import pandas as pd\n",
    "import matplotlib.pyplot as plt\n",
    "plt.rcParams['font.sans-serif'] = ['SimHei']  # 用来正常显示中文标签\n",
    "\n",
    "lst_in_time = []\n",
    "dic_in_time = []\n",
    "\n",
    "for i in range(10000, 1000001, 20000):\n",
    "    t = timeit.Timer(\"random.randrange(%d) in x\" %i, \"from __main__ import random,x\")\n",
    "    x = list(range(i))\n",
    "    lst_in_time.append(t.timeit(number=1000)) \n",
    "    \n",
    "    x = {j:None for j in range(i)}\n",
    "    dic_in_time.append(t.timeit(number=1000)) \n",
    "\n",
    "data = {\n",
    "    'list_in_time':lst_in_time,\n",
    "    'dict_in_time':dic_in_time\n",
    "}\n",
    "\n",
    "df = pd.DataFrame(data, index=range(10000, 1000001, 20000), columns=['list_in_time','dict_in_time'])\n",
    "\n",
    "\n",
    "# 开始绘图\n",
    "fig = df.plot(figsize=(8,6))  # # 创建图表对象\n",
    "plt.title('list方法in()和dict方法in()性能比较')  # 图名\n",
    "plt.xlabel('数量级')  # x轴标签\n",
    "plt.ylabel('耗时(秒)') # y轴标签\n",
    "plt.legend(loc = 'best')  \n",
    "\n",
    "plt.show()"
   ],
   "metadata": {
    "collapsed": false,
    "pycharm": {
     "name": "#%%\n",
     "is_executing": false
    }
   }
  }
 ],
 "metadata": {
  "kernelspec": {
   "display_name": "Python 3",
   "language": "python",
   "name": "python3"
  },
  "language_info": {
   "codemirror_mode": {
    "name": "ipython",
    "version": 2
   },
   "file_extension": ".py",
   "mimetype": "text/x-python",
   "name": "python",
   "nbconvert_exporter": "python",
   "pygments_lexer": "ipython2",
   "version": "2.7.6"
  },
  "pycharm": {
   "stem_cell": {
    "cell_type": "raw",
    "source": [],
    "metadata": {
     "collapsed": false
    }
   }
  }
 },
 "nbformat": 4,
 "nbformat_minor": 0
}