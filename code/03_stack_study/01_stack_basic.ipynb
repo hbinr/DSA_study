{
 "cells": [
  {
   "cell_type": "markdown",
   "metadata": {
    "collapsed": true,
    "pycharm": {
     "name": "#%% md\n"
    }
   },
   "source": [
    "## 什么是栈\n",
    "一个栈（有时称“叠加栈”）是一个项的有序集合。添加项和移除项都发生在同一“端”。\n",
    "\n",
    "这一端通常被称为“顶top”。另一端的顶部被称为“底base”。\n",
    "\n",
    "栈的“底”是有标志性的，因为存储在栈中**更靠近**“底”的项就是栈中储存时间最长的项。最新添加的项在移除项时也会第一个被移除。\n",
    "\n",
    "这种排序原则有时也称为 LIFO(Last in First out) 法，也就是“后进先出”。\n",
    "\n",
    "项的排序基于它在集合中存在的时间长度。越新的项越靠近“顶”，越老的项越靠近“底”。\n",
    "\n",
    "日常生活中有很多栈的应用:盘子, 书堆\n",
    "\n",
    "## 栈的特性:反转次序\n",
    "\n",
    "进栈和出栈的次序正好相反. \n",
    "\n",
    "- 想象拿完一摞盘子,先摆上去肯定最后被拿走\n",
    "\n",
    "- 浏览器的后退按钮,最先back的是最新访问的网页\n",
    "\n",
    "\n",
    "## 栈的命令是按后进先出进行的。栈的操作如下：\n",
    "\n",
    "- Stack()创建一个新的空栈。它不需要参数，并返回一个空栈。\n",
    "\n",
    "- push(item)将新项添加到堆栈的顶部。它需要参数 item 并且没有返回值。\n",
    "\n",
    "- pop()从栈顶删除项目。它不需要参数,返回 item。栈被修改。\n",
    "\n",
    "- peek()返回栈顶的项，不删除它。它不需要参数。堆栈不被修改。\n",
    "\n",
    "- isEmpty()测试看栈是否为空。它不需要参数，返回一个布尔值。\n",
    "\n",
    "- size()返回栈的项目数。它不需要参数，返回一个整数。\n",
    "\n",
    "\n",
    "## Python实现栈\n",
    "\n",
    "### 栈顶选择\n",
    "\n",
    "对于List而言,选用List的末端 index = -1 来表示栈顶,这样栈的操作就可以通过append和pop来实现\n"
   ]
  },
  {
   "cell_type": "code",
   "execution_count": 1,
   "outputs": [
    {
     "name": "stdout",
     "text": [
      "判空: False\n",
      "判满: False\n",
      "Stack([1, 199, 99, 'hello'],maxlen=10)\n",
      "出栈后结果: Stack([1, 199, 99],maxlen=10)\n"
     ],
     "output_type": "stream"
    }
   ],
   "source": [
    "from my_stack import Stack\n",
    "\n",
    "# 测试自己写的栈\n",
    "s = Stack()  # 创建栈对象\n",
    "s.push(1)  # 入栈\n",
    "\n",
    "print('判空:',s.isEmpty())  # 判空\n",
    "\n",
    "print('判满:',s.isFull())  # 判满\n",
    "\n",
    "s.push(199)\n",
    "s.push(99)\n",
    "s.push('hello')\n",
    "print(s)\n",
    "\n",
    "s.pop()  # 出栈\n",
    "print('出栈后结果:', s)  # hello没了"
   ],
   "metadata": {
    "collapsed": false,
    "pycharm": {
     "name": "#%%\n",
     "is_executing": false
    }
   }
  },
  {
   "cell_type": "code",
   "execution_count": 2,
   "outputs": [
    {
     "name": "stdout",
     "text": [
      "Stack([1, 199, 99],maxlen=5)\n",
      "Stack([1, 199, 99, 'world', 'python'],maxlen=5)\n",
      "判空: False\n",
      "判满: True\n"
     ],
     "output_type": "stream"
    }
   ],
   "source": [
    "s.setSize(5)  # 设置栈大小\n",
    "print(s)\n",
    "\n",
    "s.push('world')\n",
    "s.push('python')\n",
    "print(s)\n",
    "print('判空:',s.isEmpty())  # 判空\n",
    "\n",
    "print('判满:',s.isFull())  # 判满"
   ],
   "metadata": {
    "collapsed": false,
    "pycharm": {
     "name": "#%%\n",
     "is_executing": false
    }
   }
  },
  {
   "cell_type": "code",
   "execution_count": 3,
   "outputs": [
    {
     "name": "stdout",
     "text": [
      "Stack([],maxlen=0)\n",
      "判空: True\n"
     ],
     "output_type": "stream"
    }
   ],
   "source": [
    "s.clear()  # 清空栈元素\n",
    "print(s)\n",
    "print('判空:',s.isEmpty())  # 判空"
   ],
   "metadata": {
    "collapsed": false,
    "pycharm": {
     "name": "#%%\n",
     "is_executing": false
    }
   }
  },
  {
   "cell_type": "code",
   "execution_count": 2,
   "outputs": [
    {
     "name": "stdout",
     "text": [
      "Stack([1, 1, 2],maxlen=10)\n"
     ],
     "output_type": "stream"
    },
    {
     "data": {
      "text/plain": "Stack([1, 1, 2],maxlen=10)"
     },
     "metadata": {},
     "output_type": "execute_result",
     "execution_count": 2
    }
   ],
   "source": [
    "s2 = Stack()\n",
    "s2.push(1)\n",
    "s2.push(1)\n",
    "s2.push(2)\n",
    "print(s2)\n",
    "\n",
    "s2.peek()  # 返回栈顶元素,不会删除\n",
    "s2"
   ],
   "metadata": {
    "collapsed": false,
    "pycharm": {
     "name": "#%%\n",
     "is_executing": false
    }
   }
  }
 ],
 "metadata": {
  "kernelspec": {
   "display_name": "Python 3",
   "language": "python",
   "name": "python3"
  },
  "language_info": {
   "codemirror_mode": {
    "name": "ipython",
    "version": 2
   },
   "file_extension": ".py",
   "mimetype": "text/x-python",
   "name": "python",
   "nbconvert_exporter": "python",
   "pygments_lexer": "ipython2",
   "version": "2.7.6"
  },
  "pycharm": {
   "stem_cell": {
    "cell_type": "raw",
    "source": [],
    "metadata": {
     "collapsed": false
    }
   }
  }
 },
 "nbformat": 4,
 "nbformat_minor": 0
}