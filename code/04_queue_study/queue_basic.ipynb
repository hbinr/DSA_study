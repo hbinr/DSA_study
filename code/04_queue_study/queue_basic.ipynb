{
 "cells": [
  {
   "cell_type": "markdown",
   "metadata": {
    "collapsed": true,
    "pycharm": {
     "name": "#%% md\n"
    }
   },
   "source": [
    "## 队列学习\n",
    "\n",
    "### 什么是队列?\n",
    "    \n",
    "队列是一种有次序的数据集合,其特征是:\n",
    "- 新数据项的添加总发生在一端,通常称为'尾rear'端\n",
    "\n",
    "- 移除数据项总发生在另一端,通常成为'首front'端\n",
    "\n",
    "- 仅有一个入口和一个出口\n",
    "\n",
    "- 不允许数据项直接插入队列中,也不允许从中间移除数据项\n",
    "\n",
    "当数据项加入队列,首先出现在队尾,随着队首数据项的移除,它逐渐接近队首\n",
    "\n",
    "新加入的数据项必须在数据集末尾等待,而等待时间最长的数据项则是队首\n",
    "\n",
    "这种次序安排的原则称为:先进先出 (FIFO:First in First out)\n",
    "\n",
    "日常生活中常见的实例:排队现象, 打印机\n",
    "\n",
    "### 队列的命令是按先进先出进行的。队列的操作如下：\n",
    "\n",
    "- Queue()创建一个空队列对象，无需参数，返回空的队列\n",
    "\n",
    "- enqueue(item)将数据项添加到队尾，无返回值\n",
    "\n",
    "- dequeue()从队首移除数据项，无需参数，返回值为队首数据项\n",
    "\n",
    "- isEmpty()测试是否为空队列，无需参数，返回值为布尔值\n",
    "\n",
    "- size()返回队列中的数据项的个数，无需参数"
   ]
  },
  {
   "cell_type": "code",
   "execution_count": 1,
   "outputs": [
    {
     "data": {
      "text/plain": "Queue([1, 2, 3, 4],maxlen=10)"
     },
     "metadata": {},
     "output_type": "execute_result",
     "execution_count": 1
    }
   ],
   "source": [
    "from my_queue import Queue\n",
    "\n",
    "queue = Queue()\n",
    "\n",
    "# 入队\n",
    "queue.enqueue(1)\n",
    "queue.enqueue(2)\n",
    "queue.enqueue(3)\n",
    "queue.enqueue(4)\n",
    "queue"
   ],
   "metadata": {
    "collapsed": false,
    "pycharm": {
     "name": "#%%\n",
     "is_executing": false
    }
   }
  },
  {
   "cell_type": "code",
   "execution_count": 4,
   "outputs": [
    {
     "name": "stdout",
     "text": [
      "出队结果: 2\n"
     ],
     "output_type": "stream"
    },
    {
     "data": {
      "text/plain": "Queue([3, 4],maxlen=10)"
     },
     "metadata": {},
     "output_type": "execute_result",
     "execution_count": 4
    }
   ],
   "source": [
    "# 出队\n",
    "print('出队结果:', queue.popqueue())\n",
    "\n",
    "queue"
   ],
   "metadata": {
    "collapsed": false,
    "pycharm": {
     "name": "#%%\n",
     "is_executing": false
    }
   }
  },
  {
   "cell_type": "code",
   "execution_count": 2,
   "outputs": [
    {
     "name": "stdout",
     "text": [
      "判空: False\n",
      "判满: False\n"
     ],
     "output_type": "stream"
    }
   ],
   "source": [
    "# 判满 判空\n",
    "print('判空:', queue.isEmpty())\n",
    "print('判满:', queue.isFull())"
   ],
   "metadata": {
    "collapsed": false,
    "pycharm": {
     "name": "#%%\n",
     "is_executing": false
    }
   }
  },
  {
   "cell_type": "code",
   "execution_count": 5,
   "outputs": [
    {
     "data": {
      "text/plain": "Queue([3, 4],maxlen=5)"
     },
     "metadata": {},
     "output_type": "execute_result",
     "execution_count": 5
    }
   ],
   "source": [
    "# 设置队列大小\n",
    "queue.setSize(5)\n",
    "queue"
   ],
   "metadata": {
    "collapsed": false,
    "pycharm": {
     "name": "#%%\n",
     "is_executing": false
    }
   }
  },
  {
   "cell_type": "code",
   "execution_count": 6,
   "outputs": [],
   "source": [
    "queue.enqueue(5)\n",
    "queue.enqueue(6)\n",
    "queue.enqueue(10)"
   ],
   "metadata": {
    "collapsed": false,
    "pycharm": {
     "name": "#%%\n",
     "is_executing": false
    }
   }
  },
  {
   "cell_type": "code",
   "execution_count": 9,
   "outputs": [
    {
     "name": "stdout",
     "text": [
      "判空: False\n",
      "判满: True\n"
     ],
     "output_type": "stream"
    },
    {
     "data": {
      "text/plain": "Queue([3, 4, 5, 6, 10],maxlen=5)"
     },
     "metadata": {},
     "output_type": "execute_result",
     "execution_count": 9
    }
   ],
   "source": [
    "# 判满 判空\n",
    "print('判空:', queue.isEmpty())\n",
    "print('判满:', queue.isFull())\n",
    "queue"
   ],
   "metadata": {
    "collapsed": false,
    "pycharm": {
     "name": "#%%\n",
     "is_executing": false
    }
   }
  },
  {
   "cell_type": "code",
   "execution_count": 10,
   "outputs": [
    {
     "data": {
      "text/plain": "Queue([],maxlen=0)"
     },
     "metadata": {},
     "output_type": "execute_result",
     "execution_count": 10
    }
   ],
   "source": [
    "# 清空队列\n",
    "queue.clear()\n",
    "queue"
   ],
   "metadata": {
    "collapsed": false,
    "pycharm": {
     "name": "#%%\n",
     "is_executing": false
    }
   }
  },
  {
   "cell_type": "code",
   "execution_count": 11,
   "outputs": [
    {
     "name": "stdout",
     "text": [
      "判空: True\n",
      "判满: False\n"
     ],
     "output_type": "stream"
    }
   ],
   "source": [
    "# 判满 判空\n",
    "print('判空:', queue.isEmpty())\n",
    "print('判满:', queue.isFull())\n"
   ],
   "metadata": {
    "collapsed": false,
    "pycharm": {
     "name": "#%%\n",
     "is_executing": false
    }
   }
  }
 ],
 "metadata": {
  "kernelspec": {
   "display_name": "Python 3",
   "language": "python",
   "name": "python3"
  },
  "language_info": {
   "codemirror_mode": {
    "name": "ipython",
    "version": 2
   },
   "file_extension": ".py",
   "mimetype": "text/x-python",
   "name": "python",
   "nbconvert_exporter": "python",
   "pygments_lexer": "ipython2",
   "version": "2.7.6"
  },
  "pycharm": {
   "stem_cell": {
    "cell_type": "raw",
    "source": [],
    "metadata": {
     "collapsed": false
    }
   }
  }
 },
 "nbformat": 4,
 "nbformat_minor": 0
}