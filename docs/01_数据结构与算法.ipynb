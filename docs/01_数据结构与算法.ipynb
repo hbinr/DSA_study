{
 "cells": [
  {
   "cell_type": "markdown",
   "metadata": {
    "collapsed": true,
    "pycharm": {
     "name": "#%% md\n"
    }
   },
   "source": [
    "## 什么是数据结构和算法?\n",
    "\n",
    "数据结构，就是一组数据的存储结构。\n",
    "\n",
    "算法，就是操作数据的一组方法。\n",
    "\n",
    "数据结构是为算法服务的，算法要作用在特定的数据结构之上。\n",
    "\n",
    "## 为什么需要数据结构和算法?\n",
    "\n",
    "在计算机科学和互联网迅猛发展下，需要计算的数据量越来越庞大。但是计算机的计算能力是有限的，这么大量的数据计算，需要越来越多的计算机，需要越来越长的计算时间，注重效率的我们需要尽可能的提高计算效率。其中重要的一项，就是使用合适的数据结构和算法。选用合适的数据结构和算法，特别是在处理体量非常庞大的数据的时候，可以极大提高计算效率\n",
    "\n",
    "## 怎么样衡量数据结构和算法?\n",
    "\n",
    "需要引入一个衡量的标准(metric)---\n",
    "- 时间复杂度\n",
    "- 空间复杂度。\n",
    "\n",
    "学习数据结构和算法的基石，就是要学会`复杂度分析`。知道怎么去分析复杂度，才能作出正确的判断，在特定的场景下选用合适的正确的算法。"
   ]
  },
  {
   "cell_type": "markdown",
   "source": [
    "## 多种时间复杂度\n",
    "\n",
    "- 最好情况时间复杂度（best case time complexity）:在最理想的情况下，执行这段代码的时间复杂度\n",
    "\n",
    "- 最坏情况时间复杂度（worst case time complexity）:在最糟糕的情况下，执行这段代码的时间复杂度\n",
    "\n",
    "- 平均情况时间复杂度（average case time complexity）:加权平均时间复杂度或者期望时间复杂度。\n",
    "\n",
    "- 均摊时间复杂度（amortized time complexity）:\n",
    "\n",
    "    大部分情况下，我们并不需要区分最好、最坏、平均三种复杂度。平均复杂度只在某些特殊情况下才会用到，而均摊时间复杂度应用的场景比它更加特殊、更加有限\n",
    "    \n",
    "    对一个数据结构进行一组连续操作中，大部分情况下时间复杂度都很低，只有个别情况下时间复杂度比较高，而且这些操作之间存在前后连贯的时序关系，这个时候，我们就可以将这一组操作放在一块儿分析，看是否能将较高时间复杂度那次操作的耗时，平摊到其他那些时间复杂度比较低的操作上。而且，在能够应用均摊时间复杂度分析的场合，一般均摊时间复杂度就等于最好情况时间复杂度。"
   ],
   "metadata": {
    "collapsed": false,
    "pycharm": {
     "name": "#%% md\n"
    }
   }
  }
 ],
 "metadata": {
  "kernelspec": {
   "display_name": "Python 3",
   "language": "python",
   "name": "python3"
  },
  "language_info": {
   "codemirror_mode": {
    "name": "ipython",
    "version": 2
   },
   "file_extension": ".py",
   "mimetype": "text/x-python",
   "name": "python",
   "nbconvert_exporter": "python",
   "pygments_lexer": "ipython2",
   "version": "2.7.6"
  },
  "pycharm": {
   "stem_cell": {
    "cell_type": "raw",
    "source": [],
    "metadata": {
     "collapsed": false
    }
   }
  }
 },
 "nbformat": 4,
 "nbformat_minor": 0
}