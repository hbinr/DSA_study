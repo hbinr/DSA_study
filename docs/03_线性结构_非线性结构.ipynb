{
 "cells": [
  {
   "cell_type": "markdown",
   "metadata": {
    "collapsed": true,
    "pycharm": {
     "name": "#%% md\n"
    }
   },
   "source": [
    "## 线性结构\n",
    "\n",
    "线性结构是一种有序数据项的集合,其中每个数据项都有**唯一**的前驱和后继,除了第一个没有前驱,最后一个没有后继.\n",
    "\n",
    "新的数据项加入到数据集中时,只会加入到原有某个数据项之前或之后,具有这种性质的数据集,就称为线性结构.\n",
    "\n",
    "- 数组(Array)、栈( Stack)、队列(Queue)、链表( Linked List)等数据的逻辑结构都属于线性表。\n",
    "\n",
    "- 不同线性结构区别在于数据项增减的方式,有的结构只允许数据项从一端添加,而有的结构则允许数据项从两端移除\n",
    "\n",
    "\n",
    "## 非线性结构\n",
    "\n",
    "非线性结构就是表中各个结点之间具有多个对应关系,非线性结构的一个结点可能有多个直接前趋结点和多个直接后继结点。\n",
    "\n",
    "- 树( Tree)、图(Graph)、堆(Heap)、散列表(Hash)等数据的逻辑结构都属于非线性结构。\n",
    "\n"
   ]
  }
 ],
 "metadata": {
  "kernelspec": {
   "display_name": "Python 3",
   "language": "python",
   "name": "python3"
  },
  "language_info": {
   "codemirror_mode": {
    "name": "ipython",
    "version": 2
   },
   "file_extension": ".py",
   "mimetype": "text/x-python",
   "name": "python",
   "nbconvert_exporter": "python",
   "pygments_lexer": "ipython2",
   "version": "2.7.6"
  },
  "pycharm": {
   "stem_cell": {
    "cell_type": "raw",
    "source": [],
    "metadata": {
     "collapsed": false
    }
   }
  }
 },
 "nbformat": 4,
 "nbformat_minor": 0
}